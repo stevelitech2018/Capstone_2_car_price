{
 "cells": [
  {
   "cell_type": "markdown",
   "id": "d668499b",
   "metadata": {},
   "source": [
    "Data Wrangling"
   ]
  },
  {
   "cell_type": "markdown",
   "id": "185f92e3",
   "metadata": {},
   "source": [
    "a.Introduction"
   ]
  },
  {
   "cell_type": "markdown",
   "id": "dc18e268",
   "metadata": {},
   "source": [
    "a.1 The objective of this project is to build models to predict the price of car as a function of features that define a car and and to study how the variation of the different features affect the price of the car\n"
   ]
  },
  {
   "cell_type": "markdown",
   "id": "7c537075",
   "metadata": {},
   "source": [
    "a.2 The purpose of this notebook is to conduct data wrangling including transforming raw data to a cleaned state that is more suitable for the next phase - EDA"
   ]
  },
  {
   "cell_type": "markdown",
   "id": "97d05681",
   "metadata": {},
   "source": [
    "Table of Contents\n",
    "\n",
    "[b.1 Get data source](#b.1)\n",
    "\n",
    "[b.2 Row + Column count](#b.2)\n",
    "\n",
    "[b.3 Type + Semantics](#b.3)\n",
    "\n",
    "[b.4 Data Quality Check](#b.4)\n",
    "\n",
    "[b.5 Categorical and Non-categorical characterization](#b.5)"
   ]
  },
  {
   "cell_type": "code",
   "execution_count": 159,
   "id": "56e9f6f5",
   "metadata": {},
   "outputs": [],
   "source": [
    "# Import necessary libraries\n",
    "import numpy as np # linear algebra\n",
    "import pandas as pd # data processing\n",
    "import matplotlib.pyplot as plt\n",
    "import seaborn as sns\n",
    "from sklearn.preprocessing import StandardScaler\n",
    "from scipy.stats import pearsonr\n",
    "from scipy import stats\n"
   ]
  },
  {
   "cell_type": "markdown",
   "id": "b551cc91",
   "metadata": {},
   "source": [
    "<a id=\"b.1\"></a>\n",
    "## b.1 Get data source\n"
   ]
  },
  {
   "cell_type": "code",
   "execution_count": 160,
   "id": "3f6ab2bb",
   "metadata": {},
   "outputs": [
    {
     "data": {
      "text/html": [
       "<div>\n",
       "<style scoped>\n",
       "    .dataframe tbody tr th:only-of-type {\n",
       "        vertical-align: middle;\n",
       "    }\n",
       "\n",
       "    .dataframe tbody tr th {\n",
       "        vertical-align: top;\n",
       "    }\n",
       "\n",
       "    .dataframe thead th {\n",
       "        text-align: right;\n",
       "    }\n",
       "</style>\n",
       "<table border=\"1\" class=\"dataframe\">\n",
       "  <thead>\n",
       "    <tr style=\"text-align: right;\">\n",
       "      <th></th>\n",
       "      <th>car_ID</th>\n",
       "      <th>symboling</th>\n",
       "      <th>CarName</th>\n",
       "      <th>fueltype</th>\n",
       "      <th>aspiration</th>\n",
       "      <th>doornumber</th>\n",
       "      <th>carbody</th>\n",
       "      <th>drivewheel</th>\n",
       "      <th>enginelocation</th>\n",
       "      <th>wheelbase</th>\n",
       "      <th>...</th>\n",
       "      <th>enginesize</th>\n",
       "      <th>fuelsystem</th>\n",
       "      <th>boreratio</th>\n",
       "      <th>stroke</th>\n",
       "      <th>compressionratio</th>\n",
       "      <th>horsepower</th>\n",
       "      <th>peakrpm</th>\n",
       "      <th>citympg</th>\n",
       "      <th>highwaympg</th>\n",
       "      <th>price</th>\n",
       "    </tr>\n",
       "  </thead>\n",
       "  <tbody>\n",
       "    <tr>\n",
       "      <th>0</th>\n",
       "      <td>1</td>\n",
       "      <td>3</td>\n",
       "      <td>alfa-romero giulia</td>\n",
       "      <td>gas</td>\n",
       "      <td>std</td>\n",
       "      <td>two</td>\n",
       "      <td>convertible</td>\n",
       "      <td>rwd</td>\n",
       "      <td>front</td>\n",
       "      <td>88.6</td>\n",
       "      <td>...</td>\n",
       "      <td>130</td>\n",
       "      <td>mpfi</td>\n",
       "      <td>3.47</td>\n",
       "      <td>2.68</td>\n",
       "      <td>9.0</td>\n",
       "      <td>111</td>\n",
       "      <td>5000</td>\n",
       "      <td>21</td>\n",
       "      <td>27</td>\n",
       "      <td>13495.0</td>\n",
       "    </tr>\n",
       "    <tr>\n",
       "      <th>1</th>\n",
       "      <td>2</td>\n",
       "      <td>3</td>\n",
       "      <td>alfa-romero stelvio</td>\n",
       "      <td>gas</td>\n",
       "      <td>std</td>\n",
       "      <td>two</td>\n",
       "      <td>convertible</td>\n",
       "      <td>rwd</td>\n",
       "      <td>front</td>\n",
       "      <td>88.6</td>\n",
       "      <td>...</td>\n",
       "      <td>130</td>\n",
       "      <td>mpfi</td>\n",
       "      <td>3.47</td>\n",
       "      <td>2.68</td>\n",
       "      <td>9.0</td>\n",
       "      <td>111</td>\n",
       "      <td>5000</td>\n",
       "      <td>21</td>\n",
       "      <td>27</td>\n",
       "      <td>16500.0</td>\n",
       "    </tr>\n",
       "    <tr>\n",
       "      <th>2</th>\n",
       "      <td>3</td>\n",
       "      <td>1</td>\n",
       "      <td>alfa-romero Quadrifoglio</td>\n",
       "      <td>gas</td>\n",
       "      <td>std</td>\n",
       "      <td>two</td>\n",
       "      <td>hatchback</td>\n",
       "      <td>rwd</td>\n",
       "      <td>front</td>\n",
       "      <td>94.5</td>\n",
       "      <td>...</td>\n",
       "      <td>152</td>\n",
       "      <td>mpfi</td>\n",
       "      <td>2.68</td>\n",
       "      <td>3.47</td>\n",
       "      <td>9.0</td>\n",
       "      <td>154</td>\n",
       "      <td>5000</td>\n",
       "      <td>19</td>\n",
       "      <td>26</td>\n",
       "      <td>16500.0</td>\n",
       "    </tr>\n",
       "    <tr>\n",
       "      <th>3</th>\n",
       "      <td>4</td>\n",
       "      <td>2</td>\n",
       "      <td>audi 100 ls</td>\n",
       "      <td>gas</td>\n",
       "      <td>std</td>\n",
       "      <td>four</td>\n",
       "      <td>sedan</td>\n",
       "      <td>fwd</td>\n",
       "      <td>front</td>\n",
       "      <td>99.8</td>\n",
       "      <td>...</td>\n",
       "      <td>109</td>\n",
       "      <td>mpfi</td>\n",
       "      <td>3.19</td>\n",
       "      <td>3.40</td>\n",
       "      <td>10.0</td>\n",
       "      <td>102</td>\n",
       "      <td>5500</td>\n",
       "      <td>24</td>\n",
       "      <td>30</td>\n",
       "      <td>13950.0</td>\n",
       "    </tr>\n",
       "    <tr>\n",
       "      <th>4</th>\n",
       "      <td>5</td>\n",
       "      <td>2</td>\n",
       "      <td>audi 100ls</td>\n",
       "      <td>gas</td>\n",
       "      <td>std</td>\n",
       "      <td>four</td>\n",
       "      <td>sedan</td>\n",
       "      <td>4wd</td>\n",
       "      <td>front</td>\n",
       "      <td>99.4</td>\n",
       "      <td>...</td>\n",
       "      <td>136</td>\n",
       "      <td>mpfi</td>\n",
       "      <td>3.19</td>\n",
       "      <td>3.40</td>\n",
       "      <td>8.0</td>\n",
       "      <td>115</td>\n",
       "      <td>5500</td>\n",
       "      <td>18</td>\n",
       "      <td>22</td>\n",
       "      <td>17450.0</td>\n",
       "    </tr>\n",
       "  </tbody>\n",
       "</table>\n",
       "<p>5 rows × 26 columns</p>\n",
       "</div>"
      ],
      "text/plain": [
       "   car_ID  symboling                   CarName fueltype aspiration doornumber   \n",
       "0       1          3        alfa-romero giulia      gas        std        two  \\\n",
       "1       2          3       alfa-romero stelvio      gas        std        two   \n",
       "2       3          1  alfa-romero Quadrifoglio      gas        std        two   \n",
       "3       4          2               audi 100 ls      gas        std       four   \n",
       "4       5          2                audi 100ls      gas        std       four   \n",
       "\n",
       "       carbody drivewheel enginelocation  wheelbase  ...  enginesize   \n",
       "0  convertible        rwd          front       88.6  ...         130  \\\n",
       "1  convertible        rwd          front       88.6  ...         130   \n",
       "2    hatchback        rwd          front       94.5  ...         152   \n",
       "3        sedan        fwd          front       99.8  ...         109   \n",
       "4        sedan        4wd          front       99.4  ...         136   \n",
       "\n",
       "   fuelsystem  boreratio  stroke compressionratio horsepower  peakrpm citympg   \n",
       "0        mpfi       3.47    2.68              9.0        111     5000      21  \\\n",
       "1        mpfi       3.47    2.68              9.0        111     5000      21   \n",
       "2        mpfi       2.68    3.47              9.0        154     5000      19   \n",
       "3        mpfi       3.19    3.40             10.0        102     5500      24   \n",
       "4        mpfi       3.19    3.40              8.0        115     5500      18   \n",
       "\n",
       "   highwaympg    price  \n",
       "0          27  13495.0  \n",
       "1          27  16500.0  \n",
       "2          26  16500.0  \n",
       "3          30  13950.0  \n",
       "4          22  17450.0  \n",
       "\n",
       "[5 rows x 26 columns]"
      ]
     },
     "execution_count": 160,
     "metadata": {},
     "output_type": "execute_result"
    }
   ],
   "source": [
    "# Get data source\n",
    "car_data = pd.read_csv('CarPrice_Assignment.csv')\n",
    "car_data.head()"
   ]
  },
  {
   "cell_type": "markdown",
   "id": "9977eccc",
   "metadata": {},
   "source": [
    "<a id=\"b.2\"></a>\n",
    "## b.2 Row + Column count"
   ]
  },
  {
   "cell_type": "code",
   "execution_count": 161,
   "id": "2efca9d7",
   "metadata": {},
   "outputs": [
    {
     "name": "stdout",
     "output_type": "stream",
     "text": [
      "Total Rows: 205\n",
      "Total Columns: 26\n"
     ]
    }
   ],
   "source": [
    "# Find out the total number of rows and columns\n",
    "total_rows, total_columns = car_data.shape\n",
    "\n",
    "print(\"Total Rows:\", total_rows)\n",
    "print(\"Total Columns:\", total_columns)"
   ]
  },
  {
   "cell_type": "markdown",
   "id": "1770df16",
   "metadata": {},
   "source": [
    "<a id=\"b.3\"></a>\n",
    "## b.3 Type + Semantics"
   ]
  },
  {
   "cell_type": "code",
   "execution_count": 162,
   "id": "ca5e8c33",
   "metadata": {},
   "outputs": [
    {
     "name": "stdout",
     "output_type": "stream",
     "text": [
      "car_ID                int64\n",
      "symboling             int64\n",
      "CarName              object\n",
      "fueltype             object\n",
      "aspiration           object\n",
      "doornumber           object\n",
      "carbody              object\n",
      "drivewheel           object\n",
      "enginelocation       object\n",
      "wheelbase           float64\n",
      "carlength           float64\n",
      "carwidth            float64\n",
      "carheight           float64\n",
      "curbweight            int64\n",
      "enginetype           object\n",
      "cylindernumber       object\n",
      "enginesize            int64\n",
      "fuelsystem           object\n",
      "boreratio           float64\n",
      "stroke              float64\n",
      "compressionratio    float64\n",
      "horsepower            int64\n",
      "peakrpm               int64\n",
      "citympg               int64\n",
      "highwaympg            int64\n",
      "price               float64\n",
      "dtype: object\n"
     ]
    }
   ],
   "source": [
    "# Get the data types of each column\n",
    "print(car_data.dtypes)"
   ]
  },
  {
   "cell_type": "markdown",
   "id": "661285ca",
   "metadata": {},
   "source": [
    "DATA DICTIONARY\t\t\t\t\t\t\n",
    "\t\t\t\t\t\t\n",
    "1\tCar_ID\t\t\tUnique id of each observation (Interger)\t\t\n",
    "2\tSymboling \t\t\tIts assigned insurance risk rating, A value of +3 indicates that the auto is risky, -3 that it is probably pretty safe.(Categorical) \t\t\n",
    "3\tcarCompany\t\t\tName of car company (Categorical)\t\t\n",
    "4\tfueltype\t\t\tCar fuel type i.e gas or diesel (Categorical)\t\t\n",
    "5\taspiration\t\t\tAspiration used in a car (Categorical)\t\t\n",
    "6\tdoornumber\t\t\tNumber of doors in a car (Categorical)\t\t\n",
    "7\tcarbody\t\t\tbody of car (Categorical)\t\t\n",
    "8\tdrivewheel\t\t\ttype of drive wheel (Categorical)\t\t\n",
    "9\tenginelocation\t\t\tLocation of car engine (Categorical)\t\t\n",
    "10\twheelbase\t\t\tWeelbase of car (Numeric)\t\t\n",
    "11\tcarlength\t\t\tLength of car (Numeric)\t\t\n",
    "12\tcarwidth\t\t\tWidth of car (Numeric)\t\t\n",
    "13\tcarheight\t\t\theight of car (Numeric)\t\t\n",
    "14\tcurbweight\t\t\tThe weight of a car without occupants or baggage. (Numeric)\t\t\n",
    "15\tenginetype\t\t\tType of engine. (Categorical)\t\t\n",
    "16\tcylindernumber\t\t\tcylinder placed in the car (Categorical)\t\t\n",
    "17\tenginesize\t\t\tSize of car (Numeric)\t\t\n",
    "18\tfuelsystem\t\t\tFuel system of car (Categorical)\t\t\n",
    "19\tboreratio\t\t\tBoreratio of car (Numeric)\t\t\n",
    "20\tstroke\t\t\tStroke or volume inside the engine (Numeric)\t\t\n",
    "21\tcompressionratio\t\t\tcompression ratio of car (Numeric)\t\t\n",
    "22\thorsepower\t\t\tHorsepower (Numeric)\t\t\n",
    "23\tpeakrpm\t\t\tcar peak rpm (Numeric)\t\t\n",
    "24\tcitympg\t\t\tMileage in city (Numeric)\t\t\n",
    "25\thighwaympg\t\t\tMileage on highway (Numeric)\t\t\n",
    "26\tprice(Dependent variable)\t\t\tPrice of car (Numeric)\t\t\n",
    "\t\t\t\t\t"
   ]
  },
  {
   "cell_type": "markdown",
   "id": "a516509b",
   "metadata": {},
   "source": [
    "<a id=\"b.4\"></a>\n",
    "## b.4 Data Quality Check"
   ]
  },
  {
   "cell_type": "code",
   "execution_count": 163,
   "id": "2477b18c",
   "metadata": {},
   "outputs": [
    {
     "data": {
      "text/plain": [
       "{'Duplicate Rows': 0,\n",
       " 'Missing Values Per Column': car_ID              0\n",
       " symboling           0\n",
       " CarName             0\n",
       " fueltype            0\n",
       " aspiration          0\n",
       " doornumber          0\n",
       " carbody             0\n",
       " drivewheel          0\n",
       " enginelocation      0\n",
       " wheelbase           0\n",
       " carlength           0\n",
       " carwidth            0\n",
       " carheight           0\n",
       " curbweight          0\n",
       " enginetype          0\n",
       " cylindernumber      0\n",
       " enginesize          0\n",
       " fuelsystem          0\n",
       " boreratio           0\n",
       " stroke              0\n",
       " compressionratio    0\n",
       " horsepower          0\n",
       " peakrpm             0\n",
       " citympg             0\n",
       " highwaympg          0\n",
       " price               0\n",
       " dtype: int64,\n",
       " 'Unique Values Per Column': car_ID              205\n",
       " symboling             6\n",
       " CarName             147\n",
       " fueltype              2\n",
       " aspiration            2\n",
       " doornumber            2\n",
       " carbody               5\n",
       " drivewheel            3\n",
       " enginelocation        2\n",
       " wheelbase            53\n",
       " carlength            75\n",
       " carwidth             44\n",
       " carheight            49\n",
       " curbweight          171\n",
       " enginetype            7\n",
       " cylindernumber        7\n",
       " enginesize           44\n",
       " fuelsystem            8\n",
       " boreratio            38\n",
       " stroke               37\n",
       " compressionratio     32\n",
       " horsepower           59\n",
       " peakrpm              23\n",
       " citympg              29\n",
       " highwaympg           30\n",
       " price               189\n",
       " dtype: int64}"
      ]
     },
     "execution_count": 163,
     "metadata": {},
     "output_type": "execute_result"
    }
   ],
   "source": [
    "# Checking for duplicate rows in the dataset\n",
    "duplicate_rows = car_data[car_data.duplicated()]\n",
    "\n",
    "# Checking for missing values in each column\n",
    "missing_values = car_data.isnull().sum()\n",
    "\n",
    "# Checking for unique values in each column to identify potential categorical columns with limited unique entries\n",
    "unique_values = car_data.nunique()\n",
    "\n",
    "# Summarize the data quality check results\n",
    "data_quality_check = {\n",
    "    'Duplicate Rows': len(duplicate_rows),\n",
    "    'Missing Values Per Column': missing_values,\n",
    "    'Unique Values Per Column': unique_values\n",
    "}\n",
    "\n",
    "data_quality_check\n"
   ]
  },
  {
   "cell_type": "markdown",
   "id": "48bf3e53",
   "metadata": {},
   "source": [
    "It is beneficial to separate the company name and use it as a feature, while discarding the specific model name as it is too specific and could lead to overfitting.\n",
    "Let's separate the company name from CarName and inspect the unique values to ensure the company names are consistently represented. After that, we can perform one-hot encoding on the categorical variables."
   ]
  },
  {
   "cell_type": "code",
   "execution_count": 164,
   "id": "0f89678b",
   "metadata": {},
   "outputs": [
    {
     "data": {
      "text/plain": [
       "array(['alfa-romero', 'audi', 'bmw', 'chevrolet', 'dodge', 'honda',\n",
       "       'isuzu', 'jaguar', 'maxda', 'mazda', 'buick', 'mercury',\n",
       "       'mitsubishi', 'Nissan', 'nissan', 'peugeot', 'plymouth', 'porsche',\n",
       "       'porcshce', 'renault', 'saab', 'subaru', 'toyota', 'toyouta',\n",
       "       'vokswagen', 'volkswagen', 'vw', 'volvo'], dtype=object)"
      ]
     },
     "execution_count": 164,
     "metadata": {},
     "output_type": "execute_result"
    }
   ],
   "source": [
    "# Separate company name from CarName\n",
    "car_data['CompanyName'] = car_data['CarName'].apply(lambda x: x.split()[0])\n",
    "\n",
    "# Check unique values\n",
    "car_data['CompanyName'].unique()"
   ]
  },
  {
   "cell_type": "markdown",
   "id": "97848bc0",
   "metadata": {},
   "source": [
    "Looking at the unique company names, we see some inconsistencies and possible misspellings: maxda and mazda likely refer to the same company. Nissan and nissan are the same but are treated as different due to capitalization. porsche and porcshce likely refer to the same company. toyota and toyouta likely refer to the same company. vokswagen, volkswagen, and vw likely refer to the same company."
   ]
  },
  {
   "cell_type": "code",
   "execution_count": 165,
   "id": "7e21d367",
   "metadata": {},
   "outputs": [
    {
     "data": {
      "text/plain": [
       "array(['alfa-romero', 'audi', 'bmw', 'chevrolet', 'dodge', 'honda',\n",
       "       'isuzu', 'jaguar', 'mazda', 'buick', 'mercury', 'mitsubishi',\n",
       "       'nissan', 'peugeot', 'plymouth', 'porsche', 'renault', 'saab',\n",
       "       'subaru', 'toyota', 'volkswagen', 'volvo'], dtype=object)"
      ]
     },
     "execution_count": 165,
     "metadata": {},
     "output_type": "execute_result"
    }
   ],
   "source": [
    "# Correct the company names\n",
    "car_data['CompanyName'] = car_data['CompanyName'].replace({'maxda': 'mazda', \n",
    "                                                           'Nissan': 'nissan', \n",
    "                                                           'porcshce': 'porsche', \n",
    "                                                           'toyouta': 'toyota', \n",
    "                                                           'vokswagen': 'volkswagen', \n",
    "                                                           'vw': 'volkswagen'})\n",
    "\n",
    "# Check the corrected unique values\n",
    "car_data['CompanyName'].unique()"
   ]
  },
  {
   "cell_type": "code",
   "execution_count": 166,
   "id": "1f9e637c",
   "metadata": {},
   "outputs": [],
   "source": [
    "#To drop the CarName column\n",
    "\n",
    "car_data=car_data.drop('CarName', axis=1)"
   ]
  },
  {
   "cell_type": "markdown",
   "id": "3e4fa9ee",
   "metadata": {},
   "source": [
    "The company names have been corrected and are now consistently represented. "
   ]
  },
  {
   "cell_type": "markdown",
   "id": "5d0c6b1e",
   "metadata": {},
   "source": [
    "<a id=\"b.5\"></a>\n",
    "## b.5 Categorical and Non-categorical characterization"
   ]
  },
  {
   "cell_type": "code",
   "execution_count": 167,
   "id": "cf34f353",
   "metadata": {},
   "outputs": [
    {
     "name": "stdout",
     "output_type": "stream",
     "text": [
      "Categorical Columns:\n",
      "['fueltype', 'aspiration', 'doornumber', 'carbody', 'drivewheel', 'enginelocation', 'enginetype', 'cylindernumber', 'fuelsystem', 'CompanyName']\n",
      "\n",
      "Numerical Columns:\n",
      "['car_ID', 'symboling', 'wheelbase', 'carlength', 'carwidth', 'carheight', 'curbweight', 'enginesize', 'boreratio', 'stroke', 'compressionratio', 'horsepower', 'peakrpm', 'citympg', 'highwaympg', 'price']\n"
     ]
    }
   ],
   "source": [
    "# Displaying data types of all columns\n",
    "column_data_types = car_data.dtypes\n",
    "\n",
    "# Analyze each column to categorize them\n",
    "categorical_columns = []\n",
    "numerical_columns = []\n",
    "\n",
    "for column, dtype in column_data_types.items():\n",
    "    if dtype == 'object':\n",
    "        categorical_columns.append(column)\n",
    "    else:\n",
    "        numerical_columns.append(column)\n",
    "\n",
    "# Print the results\n",
    "print(\"Categorical Columns:\")\n",
    "print(categorical_columns)\n",
    "print(\"\\nNumerical Columns:\")\n",
    "print(numerical_columns)"
   ]
  },
  {
   "cell_type": "markdown",
   "id": "274824e4",
   "metadata": {},
   "source": [
    "Summary\n",
    "\n",
    "The data wrangling section loads the raw data, checks for missing data, separates company name from car name, then characterizes the category and non-category data. "
   ]
  }
 ],
 "metadata": {
  "kernelspec": {
   "display_name": "Python 3 (ipykernel)",
   "language": "python",
   "name": "python3"
  },
  "language_info": {
   "codemirror_mode": {
    "name": "ipython",
    "version": 3
   },
   "file_extension": ".py",
   "mimetype": "text/x-python",
   "name": "python",
   "nbconvert_exporter": "python",
   "pygments_lexer": "ipython3",
   "version": "3.11.3"
  }
 },
 "nbformat": 4,
 "nbformat_minor": 5
}
