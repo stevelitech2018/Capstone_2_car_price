{
 "cells": [
  {
   "cell_type": "code",
   "execution_count": 176,
   "id": "ea2c4df2",
   "metadata": {},
   "outputs": [],
   "source": [
    "%store -r car_data_updated\n",
    "%store -r categorical_columns\n",
    "%store -r numerical_columns\n",
    "%store -r car_data\n",
    "%store -r car_data_updated_1"
   ]
  },
  {
   "cell_type": "markdown",
   "id": "a54b16a8",
   "metadata": {},
   "source": [
    "# Preprocessing"
   ]
  },
  {
   "cell_type": "markdown",
   "id": "f50684d9",
   "metadata": {},
   "source": [
    "The objective of this project is to build models to predict the price of car as a function of features that define a car and and to study how the variation of the different features affect the price of the car\n",
    "\n",
    "The purpose of this notebook is to use an algorithm to define a initial vbaseline to compare to other more powerful algorithms.\n",
    "\n",
    "Table of Contents\n",
    "\n",
    "[d.1 Train/test split](#d.1)\n",
    "\n",
    "[d.2 Standard scaling](#d.2)\n",
    "\n",
    "[d.3 Linear regression with cross-validation](#d.3)\n",
    "\n",
    "[d.4 Lasso and Ridge Regression](#d.4)\n",
    "\n",
    "[d.5 Metrics Evaluation on Test Set](#d.5)"
   ]
  },
  {
   "cell_type": "code",
   "execution_count": 177,
   "id": "3e3a099b",
   "metadata": {},
   "outputs": [],
   "source": [
    "# Import necessary libraries\n",
    "import numpy as np # linear algebra\n",
    "import pandas as pd # data processing\n",
    "import matplotlib.pyplot as plt\n",
    "import seaborn as sns\n",
    "from sklearn.preprocessing import StandardScaler\n",
    "from scipy.stats import pearsonr\n",
    "from scipy import stats"
   ]
  },
  {
   "cell_type": "markdown",
   "id": "d5e12dd5",
   "metadata": {},
   "source": [
    "<a id=\"d.1\"></a>\n",
    "## d.1 Train/test split"
   ]
  },
  {
   "cell_type": "code",
   "execution_count": 178,
   "id": "84781c7d",
   "metadata": {},
   "outputs": [],
   "source": [
    "from sklearn.model_selection import train_test_split\n",
    "\n",
    "# Define the features and the target\n",
    "#X = car_data_encoded.drop('price', axis=1)\n",
    "#y = car_data_encoded['price']\n",
    "\n",
    "# Define the features and the target\n",
    "X = car_data_updated_1.drop(['price', 'car_ID',  'symboling'], axis=1)\n",
    "y = car_data_updated_1['price']\n",
    "\n",
    "# Split the data into training and test sets\n",
    "X_train, X_test, y_train, y_test = train_test_split(X, y, test_size=0.25, random_state=42)\n"
   ]
  },
  {
   "cell_type": "code",
   "execution_count": 179,
   "id": "0576fd18",
   "metadata": {},
   "outputs": [
    {
     "data": {
      "text/plain": [
       "((153, 18), (153,), (52, 18), (52,))"
      ]
     },
     "execution_count": 179,
     "metadata": {},
     "output_type": "execute_result"
    }
   ],
   "source": [
    "X_train.shape, y_train.shape,X_test.shape,y_test.shape"
   ]
  },
  {
   "cell_type": "code",
   "execution_count": 180,
   "id": "fc708746",
   "metadata": {},
   "outputs": [
    {
     "name": "stdout",
     "output_type": "stream",
     "text": [
      "Categorical Columns:\n",
      "['fueltype', 'aspiration', 'doornumber', 'carbody', 'drivewheel', 'enginelocation', 'enginetype', 'cylindernumber', 'fuelsystem', 'CompanyName']\n",
      "\n",
      "Numerical Columns:\n",
      "['carheight', 'boreratio', 'stroke', 'compressionratio', 'peakrpm', 'carsize', 'fuelefficiency', 'carpower']\n"
     ]
    }
   ],
   "source": [
    "# Displaying data types of all columns\n",
    "column_data_types = X_train.dtypes\n",
    "\n",
    "# Analyze each column to categorize them\n",
    "categorical_columns = []\n",
    "numerical_columns = []\n",
    "\n",
    "for column, dtype in column_data_types.items():\n",
    "    if dtype == 'object':\n",
    "        categorical_columns.append(column)\n",
    "    else:\n",
    "        numerical_columns.append(column)\n",
    "\n",
    "# Print the results\n",
    "print(\"Categorical Columns:\")\n",
    "print(categorical_columns)\n",
    "print(\"\\nNumerical Columns:\")\n",
    "print(numerical_columns)"
   ]
  },
  {
   "cell_type": "code",
   "execution_count": 181,
   "id": "a3f912f0",
   "metadata": {},
   "outputs": [],
   "source": [
    "#Apply onehotencoder\n",
    "from sklearn.preprocessing import OneHotEncoder\n",
    "\n",
    "# Apply One-Hot Encode to categorical variables\n",
    "ohe = OneHotEncoder(handle_unknown='ignore')\n",
    "X_train_encoded_categorical = ohe.fit_transform(X_train[categorical_columns])  # example categorical columns\n",
    "X_test_encoded_categorical = ohe.transform(X_test[categorical_columns])\n",
    "\n",
    "# Convert encoded data to dataframe\n",
    "encoded_columns = ohe.get_feature_names_out(categorical_columns)\n",
    "X_train_encoded_categorical_df = pd.DataFrame(X_train_encoded_categorical.toarray(), columns=encoded_columns, index=X_train.index)\n",
    "X_test_encoded_categorical_df = pd.DataFrame(X_test_encoded_categorical.toarray(), columns=encoded_columns, index=X_test.index)\n",
    "\n",
    "#reset index\n",
    "X_train_encoded_categorical_df = X_train_encoded_categorical_df.reset_index(drop=True)\n",
    "X_train_numerical_df = X_train[numerical_columns].reset_index(drop=True)\n",
    "\n",
    "#reset index\n",
    "X_test_encoded_categorical_df = X_test_encoded_categorical_df.reset_index(drop=True)\n",
    "X_test_numerical_df = X_test[numerical_columns].reset_index(drop=True)\n",
    "\n",
    "# Combine with continuous data\n",
    "X_train_encoded = pd.concat([X_train_encoded_categorical_df, X_train_numerical_df], axis=1)\n",
    "X_test_encoded = pd.concat([X_test_encoded_categorical_df, X_test_numerical_df], axis=1)\n",
    "\n",
    "# Capture new column names after one-hot encoding\n",
    "#new_columns = ohe.get_feature_names_out(input_features=categorical_columns)  # This gets the new column names\n",
    "\n",
    "# If there are continuous features as well, concatenate their names with the new columns from one-hot encoding\n",
    "#continuous_columns = [col for col in X_train.columns if col not in categorical_columns]\n",
    "#column_names = list(continuous_columns) + list(new_columns)\n",
    "column_names = X_test_encoded.columns.tolist()\n"
   ]
  },
  {
   "cell_type": "code",
   "execution_count": 182,
   "id": "ead12fba",
   "metadata": {},
   "outputs": [
    {
     "data": {
      "text/plain": [
       "(Index(['fueltype_diesel', 'fueltype_gas', 'aspiration_std', 'aspiration_turbo',\n",
       "        'doornumber_four', 'doornumber_two', 'carbody_convertible',\n",
       "        'carbody_hardtop', 'carbody_hatchback', 'carbody_sedan',\n",
       "        'carbody_wagon', 'drivewheel_4wd', 'drivewheel_fwd', 'drivewheel_rwd',\n",
       "        'enginelocation_front', 'enginelocation_rear', 'enginetype_dohc',\n",
       "        'enginetype_dohcv', 'enginetype_l', 'enginetype_ohc', 'enginetype_ohcf',\n",
       "        'enginetype_ohcv', 'enginetype_rotor', 'cylindernumber_eight',\n",
       "        'cylindernumber_five', 'cylindernumber_four', 'cylindernumber_six',\n",
       "        'cylindernumber_twelve', 'cylindernumber_two', 'fuelsystem_1bbl',\n",
       "        'fuelsystem_2bbl', 'fuelsystem_4bbl', 'fuelsystem_idi',\n",
       "        'fuelsystem_mpfi', 'fuelsystem_spdi', 'fuelsystem_spfi',\n",
       "        'CompanyName_alfa-romero', 'CompanyName_audi', 'CompanyName_bmw',\n",
       "        'CompanyName_buick', 'CompanyName_chevrolet', 'CompanyName_dodge',\n",
       "        'CompanyName_honda', 'CompanyName_isuzu', 'CompanyName_jaguar',\n",
       "        'CompanyName_mazda', 'CompanyName_mercury', 'CompanyName_mitsubishi',\n",
       "        'CompanyName_nissan', 'CompanyName_peugeot', 'CompanyName_plymouth',\n",
       "        'CompanyName_porsche', 'CompanyName_renault', 'CompanyName_saab',\n",
       "        'CompanyName_subaru', 'CompanyName_toyota', 'CompanyName_volkswagen',\n",
       "        'CompanyName_volvo', 'carheight', 'boreratio', 'stroke',\n",
       "        'compressionratio', 'peakrpm', 'carsize', 'fuelefficiency', 'carpower'],\n",
       "       dtype='object'),\n",
       " Index(['fueltype_diesel', 'fueltype_gas', 'aspiration_std', 'aspiration_turbo',\n",
       "        'doornumber_four', 'doornumber_two', 'carbody_convertible',\n",
       "        'carbody_hardtop', 'carbody_hatchback', 'carbody_sedan',\n",
       "        'carbody_wagon', 'drivewheel_4wd', 'drivewheel_fwd', 'drivewheel_rwd',\n",
       "        'enginelocation_front', 'enginelocation_rear', 'enginetype_dohc',\n",
       "        'enginetype_dohcv', 'enginetype_l', 'enginetype_ohc', 'enginetype_ohcf',\n",
       "        'enginetype_ohcv', 'enginetype_rotor', 'cylindernumber_eight',\n",
       "        'cylindernumber_five', 'cylindernumber_four', 'cylindernumber_six',\n",
       "        'cylindernumber_twelve', 'cylindernumber_two', 'fuelsystem_1bbl',\n",
       "        'fuelsystem_2bbl', 'fuelsystem_4bbl', 'fuelsystem_idi',\n",
       "        'fuelsystem_mpfi', 'fuelsystem_spdi', 'fuelsystem_spfi',\n",
       "        'CompanyName_alfa-romero', 'CompanyName_audi', 'CompanyName_bmw',\n",
       "        'CompanyName_buick', 'CompanyName_chevrolet', 'CompanyName_dodge',\n",
       "        'CompanyName_honda', 'CompanyName_isuzu', 'CompanyName_jaguar',\n",
       "        'CompanyName_mazda', 'CompanyName_mercury', 'CompanyName_mitsubishi',\n",
       "        'CompanyName_nissan', 'CompanyName_peugeot', 'CompanyName_plymouth',\n",
       "        'CompanyName_porsche', 'CompanyName_renault', 'CompanyName_saab',\n",
       "        'CompanyName_subaru', 'CompanyName_toyota', 'CompanyName_volkswagen',\n",
       "        'CompanyName_volvo', 'carheight', 'boreratio', 'stroke',\n",
       "        'compressionratio', 'peakrpm', 'carsize', 'fuelefficiency', 'carpower'],\n",
       "       dtype='object'),\n",
       " ['fueltype_diesel',\n",
       "  'fueltype_gas',\n",
       "  'aspiration_std',\n",
       "  'aspiration_turbo',\n",
       "  'doornumber_four',\n",
       "  'doornumber_two',\n",
       "  'carbody_convertible',\n",
       "  'carbody_hardtop',\n",
       "  'carbody_hatchback',\n",
       "  'carbody_sedan',\n",
       "  'carbody_wagon',\n",
       "  'drivewheel_4wd',\n",
       "  'drivewheel_fwd',\n",
       "  'drivewheel_rwd',\n",
       "  'enginelocation_front',\n",
       "  'enginelocation_rear',\n",
       "  'enginetype_dohc',\n",
       "  'enginetype_dohcv',\n",
       "  'enginetype_l',\n",
       "  'enginetype_ohc',\n",
       "  'enginetype_ohcf',\n",
       "  'enginetype_ohcv',\n",
       "  'enginetype_rotor',\n",
       "  'cylindernumber_eight',\n",
       "  'cylindernumber_five',\n",
       "  'cylindernumber_four',\n",
       "  'cylindernumber_six',\n",
       "  'cylindernumber_twelve',\n",
       "  'cylindernumber_two',\n",
       "  'fuelsystem_1bbl',\n",
       "  'fuelsystem_2bbl',\n",
       "  'fuelsystem_4bbl',\n",
       "  'fuelsystem_idi',\n",
       "  'fuelsystem_mpfi',\n",
       "  'fuelsystem_spdi',\n",
       "  'fuelsystem_spfi',\n",
       "  'CompanyName_alfa-romero',\n",
       "  'CompanyName_audi',\n",
       "  'CompanyName_bmw',\n",
       "  'CompanyName_buick',\n",
       "  'CompanyName_chevrolet',\n",
       "  'CompanyName_dodge',\n",
       "  'CompanyName_honda',\n",
       "  'CompanyName_isuzu',\n",
       "  'CompanyName_jaguar',\n",
       "  'CompanyName_mazda',\n",
       "  'CompanyName_mercury',\n",
       "  'CompanyName_mitsubishi',\n",
       "  'CompanyName_nissan',\n",
       "  'CompanyName_peugeot',\n",
       "  'CompanyName_plymouth',\n",
       "  'CompanyName_porsche',\n",
       "  'CompanyName_renault',\n",
       "  'CompanyName_saab',\n",
       "  'CompanyName_subaru',\n",
       "  'CompanyName_toyota',\n",
       "  'CompanyName_volkswagen',\n",
       "  'CompanyName_volvo',\n",
       "  'carheight',\n",
       "  'boreratio',\n",
       "  'stroke',\n",
       "  'compressionratio',\n",
       "  'peakrpm',\n",
       "  'carsize',\n",
       "  'fuelefficiency',\n",
       "  'carpower'])"
      ]
     },
     "execution_count": 182,
     "metadata": {},
     "output_type": "execute_result"
    }
   ],
   "source": [
    "X_train_encoded.columns, X_test_encoded.columns, column_names"
   ]
  },
  {
   "cell_type": "code",
   "execution_count": 183,
   "id": "b2b594e9",
   "metadata": {},
   "outputs": [
    {
     "data": {
      "text/html": [
       "<div>\n",
       "<style scoped>\n",
       "    .dataframe tbody tr th:only-of-type {\n",
       "        vertical-align: middle;\n",
       "    }\n",
       "\n",
       "    .dataframe tbody tr th {\n",
       "        vertical-align: top;\n",
       "    }\n",
       "\n",
       "    .dataframe thead th {\n",
       "        text-align: right;\n",
       "    }\n",
       "</style>\n",
       "<table border=\"1\" class=\"dataframe\">\n",
       "  <thead>\n",
       "    <tr style=\"text-align: right;\">\n",
       "      <th></th>\n",
       "      <th>fueltype_diesel</th>\n",
       "      <th>fueltype_gas</th>\n",
       "      <th>aspiration_std</th>\n",
       "      <th>aspiration_turbo</th>\n",
       "      <th>doornumber_four</th>\n",
       "      <th>doornumber_two</th>\n",
       "      <th>carbody_convertible</th>\n",
       "      <th>carbody_hardtop</th>\n",
       "      <th>carbody_hatchback</th>\n",
       "      <th>carbody_sedan</th>\n",
       "      <th>...</th>\n",
       "      <th>CompanyName_volkswagen</th>\n",
       "      <th>CompanyName_volvo</th>\n",
       "      <th>carheight</th>\n",
       "      <th>boreratio</th>\n",
       "      <th>stroke</th>\n",
       "      <th>compressionratio</th>\n",
       "      <th>peakrpm</th>\n",
       "      <th>carsize</th>\n",
       "      <th>fuelefficiency</th>\n",
       "      <th>carpower</th>\n",
       "    </tr>\n",
       "  </thead>\n",
       "  <tbody>\n",
       "    <tr>\n",
       "      <th>0</th>\n",
       "      <td>1.0</td>\n",
       "      <td>0.0</td>\n",
       "      <td>1.0</td>\n",
       "      <td>0.0</td>\n",
       "      <td>0.0</td>\n",
       "      <td>1.0</td>\n",
       "      <td>0.0</td>\n",
       "      <td>0.0</td>\n",
       "      <td>0.0</td>\n",
       "      <td>1.0</td>\n",
       "      <td>...</td>\n",
       "      <td>0.0</td>\n",
       "      <td>0.0</td>\n",
       "      <td>54.5</td>\n",
       "      <td>2.99</td>\n",
       "      <td>3.47</td>\n",
       "      <td>21.9</td>\n",
       "      <td>4800</td>\n",
       "      <td>107.866667</td>\n",
       "      <td>0.047100</td>\n",
       "      <td>79.0</td>\n",
       "    </tr>\n",
       "    <tr>\n",
       "      <th>1</th>\n",
       "      <td>0.0</td>\n",
       "      <td>1.0</td>\n",
       "      <td>1.0</td>\n",
       "      <td>0.0</td>\n",
       "      <td>1.0</td>\n",
       "      <td>0.0</td>\n",
       "      <td>0.0</td>\n",
       "      <td>0.0</td>\n",
       "      <td>0.0</td>\n",
       "      <td>1.0</td>\n",
       "      <td>...</td>\n",
       "      <td>0.0</td>\n",
       "      <td>0.0</td>\n",
       "      <td>54.9</td>\n",
       "      <td>3.31</td>\n",
       "      <td>3.54</td>\n",
       "      <td>8.7</td>\n",
       "      <td>4200</td>\n",
       "      <td>114.833333</td>\n",
       "      <td>0.027085</td>\n",
       "      <td>107.0</td>\n",
       "    </tr>\n",
       "    <tr>\n",
       "      <th>2</th>\n",
       "      <td>0.0</td>\n",
       "      <td>1.0</td>\n",
       "      <td>1.0</td>\n",
       "      <td>0.0</td>\n",
       "      <td>1.0</td>\n",
       "      <td>0.0</td>\n",
       "      <td>0.0</td>\n",
       "      <td>0.0</td>\n",
       "      <td>0.0</td>\n",
       "      <td>0.0</td>\n",
       "      <td>...</td>\n",
       "      <td>0.0</td>\n",
       "      <td>0.0</td>\n",
       "      <td>53.5</td>\n",
       "      <td>3.15</td>\n",
       "      <td>3.29</td>\n",
       "      <td>9.4</td>\n",
       "      <td>5200</td>\n",
       "      <td>109.500000</td>\n",
       "      <td>0.033597</td>\n",
       "      <td>83.0</td>\n",
       "    </tr>\n",
       "    <tr>\n",
       "      <th>3</th>\n",
       "      <td>0.0</td>\n",
       "      <td>1.0</td>\n",
       "      <td>1.0</td>\n",
       "      <td>0.0</td>\n",
       "      <td>0.0</td>\n",
       "      <td>1.0</td>\n",
       "      <td>0.0</td>\n",
       "      <td>0.0</td>\n",
       "      <td>0.0</td>\n",
       "      <td>1.0</td>\n",
       "      <td>...</td>\n",
       "      <td>0.0</td>\n",
       "      <td>0.0</td>\n",
       "      <td>53.1</td>\n",
       "      <td>3.19</td>\n",
       "      <td>3.40</td>\n",
       "      <td>8.5</td>\n",
       "      <td>5500</td>\n",
       "      <td>114.466667</td>\n",
       "      <td>0.017551</td>\n",
       "      <td>123.0</td>\n",
       "    </tr>\n",
       "    <tr>\n",
       "      <th>4</th>\n",
       "      <td>0.0</td>\n",
       "      <td>1.0</td>\n",
       "      <td>1.0</td>\n",
       "      <td>0.0</td>\n",
       "      <td>0.0</td>\n",
       "      <td>1.0</td>\n",
       "      <td>0.0</td>\n",
       "      <td>1.0</td>\n",
       "      <td>0.0</td>\n",
       "      <td>0.0</td>\n",
       "      <td>...</td>\n",
       "      <td>0.0</td>\n",
       "      <td>0.0</td>\n",
       "      <td>52.0</td>\n",
       "      <td>3.62</td>\n",
       "      <td>3.50</td>\n",
       "      <td>9.3</td>\n",
       "      <td>4800</td>\n",
       "      <td>113.400000</td>\n",
       "      <td>0.021260</td>\n",
       "      <td>131.0</td>\n",
       "    </tr>\n",
       "  </tbody>\n",
       "</table>\n",
       "<p>5 rows × 66 columns</p>\n",
       "</div>"
      ],
      "text/plain": [
       "   fueltype_diesel  fueltype_gas  aspiration_std  aspiration_turbo   \n",
       "0              1.0           0.0             1.0               0.0  \\\n",
       "1              0.0           1.0             1.0               0.0   \n",
       "2              0.0           1.0             1.0               0.0   \n",
       "3              0.0           1.0             1.0               0.0   \n",
       "4              0.0           1.0             1.0               0.0   \n",
       "\n",
       "   doornumber_four  doornumber_two  carbody_convertible  carbody_hardtop   \n",
       "0              0.0             1.0                  0.0              0.0  \\\n",
       "1              1.0             0.0                  0.0              0.0   \n",
       "2              1.0             0.0                  0.0              0.0   \n",
       "3              0.0             1.0                  0.0              0.0   \n",
       "4              0.0             1.0                  0.0              1.0   \n",
       "\n",
       "   carbody_hatchback  carbody_sedan  ...  CompanyName_volkswagen   \n",
       "0                0.0            1.0  ...                     0.0  \\\n",
       "1                0.0            1.0  ...                     0.0   \n",
       "2                0.0            0.0  ...                     0.0   \n",
       "3                0.0            1.0  ...                     0.0   \n",
       "4                0.0            0.0  ...                     0.0   \n",
       "\n",
       "   CompanyName_volvo  carheight  boreratio  stroke  compressionratio  peakrpm   \n",
       "0                0.0       54.5       2.99    3.47              21.9     4800  \\\n",
       "1                0.0       54.9       3.31    3.54               8.7     4200   \n",
       "2                0.0       53.5       3.15    3.29               9.4     5200   \n",
       "3                0.0       53.1       3.19    3.40               8.5     5500   \n",
       "4                0.0       52.0       3.62    3.50               9.3     4800   \n",
       "\n",
       "      carsize  fuelefficiency  carpower  \n",
       "0  107.866667        0.047100      79.0  \n",
       "1  114.833333        0.027085     107.0  \n",
       "2  109.500000        0.033597      83.0  \n",
       "3  114.466667        0.017551     123.0  \n",
       "4  113.400000        0.021260     131.0  \n",
       "\n",
       "[5 rows x 66 columns]"
      ]
     },
     "execution_count": 183,
     "metadata": {},
     "output_type": "execute_result"
    }
   ],
   "source": [
    "X_train_encoded.head()"
   ]
  },
  {
   "cell_type": "markdown",
   "id": "05840d55",
   "metadata": {},
   "source": [
    "<a id=\"d.2\"></a>\n",
    "## d.2 Standard scaling"
   ]
  },
  {
   "cell_type": "code",
   "execution_count": 184,
   "id": "e5b80bd7",
   "metadata": {},
   "outputs": [],
   "source": [
    "from sklearn.linear_model import LinearRegression\n",
    "from sklearn.metrics import mean_squared_error, r2_score\n",
    "from sklearn.preprocessing import StandardScaler\n",
    "\n",
    "\n",
    "# Initialize the scaler\n",
    "scaler = StandardScaler(with_mean=False) # Set with_mean to False\n",
    "\n",
    "\n",
    "# Fit the scaler on the training set\n",
    "scaler.fit(X_train_encoded)\n",
    "\n",
    "# Transform both the training and test sets\n",
    "X_train_scaled = scaler.transform(X_train_encoded)\n",
    "X_test_scaled = scaler.transform(X_test_encoded)\n",
    "\n"
   ]
  },
  {
   "cell_type": "markdown",
   "id": "7d4b9fdb",
   "metadata": {},
   "source": [
    "<a id=\"d.3\"></a>\n",
    "## d.3 Linear regression with cross-validation"
   ]
  },
  {
   "cell_type": "code",
   "execution_count": 193,
   "id": "66e25386",
   "metadata": {},
   "outputs": [
    {
     "name": "stdout",
     "output_type": "stream",
     "text": [
      "Average RMSE across 5 folds (Cross-Validation) - Test: 1.8667584136347696e+16\n",
      "Average RMSE across 5 folds (Cross-Validation) - Train: 1237.739121615883\n",
      "Final Test RMSE: 4695442573583544.0\n"
     ]
    }
   ],
   "source": [
    "from sklearn.model_selection import KFold\n",
    "\n",
    "# Optionally: Convert y_train to a numpy array or reset its index if it's a DataFrame\n",
    "y_train = np.array(y_train)  # Convert to numpy array if not already\n",
    "\n",
    "\n",
    "# Initialize the Linear Regression model\n",
    "linear_model = LinearRegression()\n",
    "\n",
    "# Define the K-Fold Cross-Validator\n",
    "k = 5\n",
    "kf = KFold(n_splits=k, shuffle=True, random_state=42)\n",
    "\n",
    "# Initialize variables to store scores\n",
    "total_rmse_test = 0\n",
    "total_rmse_train = 0\n",
    "\n",
    "\n",
    "# Perform K-Fold Cross-Validation on the training data\n",
    "for train_index, test_index in kf.split(X_train_scaled):\n",
    "    # Split data into training and testing sets for this fold\n",
    "    X_train_kf, X_test_kf = X_train_scaled[train_index], X_train_scaled[test_index]\n",
    "    y_train_kf, y_test_kf = y_train[train_index], y_train[test_index]\n",
    "    \n",
    "    # Fit the model to the training data\n",
    "    linear_model.fit(X_train_kf, y_train_kf)\n",
    "    \n",
    "    # Make predictions on the test data\n",
    "    predictions_test = linear_model.predict(X_test_kf)\n",
    "    predictions_train = linear_model.predict(X_train_kf)\n",
    "    \n",
    "    # Calculate RMSE for this fold\n",
    "    rmse_test = mean_squared_error(y_test_kf, predictions_test, squared=False)\n",
    "    rmse_train = mean_squared_error(y_train_kf, predictions_train, squared=False)  # Training RMSE\n",
    "    \n",
    "    # Accumulate total RMSE\n",
    "    total_rmse_test += rmse_test\n",
    "    total_rmse_train += rmse_train\n",
    "\n",
    "# Calculate and print the average RMSE across all folds\n",
    "average_rmse_test = total_rmse_test / k\n",
    "average_rmse_train = total_rmse_train / k\n",
    "print(f\"Average RMSE across {k} folds (Cross-Validation) - Test: {average_rmse_test}\")\n",
    "print(f\"Average RMSE across {k} folds (Cross-Validation) - Train: {average_rmse_train}\")\n",
    "\n",
    "# Fit the model on the entire training set\n",
    "linear_model.fit(X_train_scaled, y_train)\n",
    "\n",
    "# Make predictions on the testing set\n",
    "final_predictions = linear_model.predict(X_test_scaled)\n",
    "preds_linear = final_predictions\n",
    "# Calculate and print the final RMSE on the testing set\n",
    "final_test_rmse = mean_squared_error(y_test, final_predictions, squared=False)\n",
    "print(\"Final Test RMSE:\", final_test_rmse)"
   ]
  },
  {
   "cell_type": "markdown",
   "id": "549853d2",
   "metadata": {},
   "source": [
    "The linear model had much lower error on the training data compared to the testing data, it might have been overfitting."
   ]
  },
  {
   "cell_type": "markdown",
   "id": "3f1ed1a9",
   "metadata": {},
   "source": [
    "<a id=\"d.4\"></a>\n",
    "## d.4 Lasso and Ridge Regression"
   ]
  },
  {
   "cell_type": "code",
   "execution_count": 195,
   "id": "41ac3899",
   "metadata": {},
   "outputs": [
    {
     "name": "stdout",
     "output_type": "stream",
     "text": [
      "Optimal Lasso Alpha: 78.47599703514607\n",
      "Lasso Testing RMSE with Optimal Alpha: 2736.1669962969295\n"
     ]
    },
    {
     "name": "stderr",
     "output_type": "stream",
     "text": [
      "/Library/Frameworks/Python.framework/Versions/3.11/lib/python3.11/site-packages/sklearn/linear_model/_coordinate_descent.py:617: ConvergenceWarning: Objective did not converge. You might want to increase the number of iterations. Duality gap: 1476724.820545733, tolerance: 728392.0926540652\n",
      "  model = cd_fast.enet_coordinate_descent_gram(\n",
      "/Library/Frameworks/Python.framework/Versions/3.11/lib/python3.11/site-packages/sklearn/linear_model/_coordinate_descent.py:617: ConvergenceWarning: Objective did not converge. You might want to increase the number of iterations. Duality gap: 1290736.4376580417, tolerance: 728392.0926540652\n",
      "  model = cd_fast.enet_coordinate_descent_gram(\n",
      "/Library/Frameworks/Python.framework/Versions/3.11/lib/python3.11/site-packages/sklearn/linear_model/_coordinate_descent.py:617: ConvergenceWarning: Objective did not converge. You might want to increase the number of iterations. Duality gap: 1270034.5083234906, tolerance: 728392.0926540652\n",
      "  model = cd_fast.enet_coordinate_descent_gram(\n",
      "/Library/Frameworks/Python.framework/Versions/3.11/lib/python3.11/site-packages/sklearn/linear_model/_coordinate_descent.py:617: ConvergenceWarning: Objective did not converge. You might want to increase the number of iterations. Duality gap: 1212169.4922215939, tolerance: 728392.0926540652\n",
      "  model = cd_fast.enet_coordinate_descent_gram(\n",
      "/Library/Frameworks/Python.framework/Versions/3.11/lib/python3.11/site-packages/sklearn/linear_model/_coordinate_descent.py:617: ConvergenceWarning: Objective did not converge. You might want to increase the number of iterations. Duality gap: 1186174.9652522802, tolerance: 728392.0926540652\n",
      "  model = cd_fast.enet_coordinate_descent_gram(\n",
      "/Library/Frameworks/Python.framework/Versions/3.11/lib/python3.11/site-packages/sklearn/linear_model/_coordinate_descent.py:617: ConvergenceWarning: Objective did not converge. You might want to increase the number of iterations. Duality gap: 1175973.6534587443, tolerance: 728392.0926540652\n",
      "  model = cd_fast.enet_coordinate_descent_gram(\n",
      "/Library/Frameworks/Python.framework/Versions/3.11/lib/python3.11/site-packages/sklearn/linear_model/_coordinate_descent.py:617: ConvergenceWarning: Objective did not converge. You might want to increase the number of iterations. Duality gap: 1172074.41754964, tolerance: 728392.0926540652\n",
      "  model = cd_fast.enet_coordinate_descent_gram(\n",
      "/Library/Frameworks/Python.framework/Versions/3.11/lib/python3.11/site-packages/sklearn/linear_model/_coordinate_descent.py:617: ConvergenceWarning: Objective did not converge. You might want to increase the number of iterations. Duality gap: 1170592.589596957, tolerance: 728392.0926540652\n",
      "  model = cd_fast.enet_coordinate_descent_gram(\n",
      "/Library/Frameworks/Python.framework/Versions/3.11/lib/python3.11/site-packages/sklearn/linear_model/_coordinate_descent.py:617: ConvergenceWarning: Objective did not converge. You might want to increase the number of iterations. Duality gap: 1170030.2878148556, tolerance: 728392.0926540652\n",
      "  model = cd_fast.enet_coordinate_descent_gram(\n",
      "/Library/Frameworks/Python.framework/Versions/3.11/lib/python3.11/site-packages/sklearn/linear_model/_coordinate_descent.py:617: ConvergenceWarning: Objective did not converge. You might want to increase the number of iterations. Duality gap: 1169817.0654135346, tolerance: 728392.0926540652\n",
      "  model = cd_fast.enet_coordinate_descent_gram(\n",
      "/Library/Frameworks/Python.framework/Versions/3.11/lib/python3.11/site-packages/sklearn/linear_model/_coordinate_descent.py:617: ConvergenceWarning: Objective did not converge. You might want to increase the number of iterations. Duality gap: 1169735.9995766282, tolerance: 728392.0926540652\n",
      "  model = cd_fast.enet_coordinate_descent_gram(\n",
      "/Library/Frameworks/Python.framework/Versions/3.11/lib/python3.11/site-packages/sklearn/linear_model/_coordinate_descent.py:617: ConvergenceWarning: Objective did not converge. You might want to increase the number of iterations. Duality gap: 938022.2182301283, tolerance: 644134.5054686991\n",
      "  model = cd_fast.enet_coordinate_descent_gram(\n",
      "/Library/Frameworks/Python.framework/Versions/3.11/lib/python3.11/site-packages/sklearn/linear_model/_coordinate_descent.py:617: ConvergenceWarning: Objective did not converge. You might want to increase the number of iterations. Duality gap: 856913.7612166107, tolerance: 644134.5054686991\n",
      "  model = cd_fast.enet_coordinate_descent_gram(\n",
      "/Library/Frameworks/Python.framework/Versions/3.11/lib/python3.11/site-packages/sklearn/linear_model/_coordinate_descent.py:617: ConvergenceWarning: Objective did not converge. You might want to increase the number of iterations. Duality gap: 931286.6769714355, tolerance: 644134.5054686991\n",
      "  model = cd_fast.enet_coordinate_descent_gram(\n",
      "/Library/Frameworks/Python.framework/Versions/3.11/lib/python3.11/site-packages/sklearn/linear_model/_coordinate_descent.py:617: ConvergenceWarning: Objective did not converge. You might want to increase the number of iterations. Duality gap: 922176.5117274523, tolerance: 644134.5054686991\n",
      "  model = cd_fast.enet_coordinate_descent_gram(\n",
      "/Library/Frameworks/Python.framework/Versions/3.11/lib/python3.11/site-packages/sklearn/linear_model/_coordinate_descent.py:617: ConvergenceWarning: Objective did not converge. You might want to increase the number of iterations. Duality gap: 914911.8395282328, tolerance: 644134.5054686991\n",
      "  model = cd_fast.enet_coordinate_descent_gram(\n",
      "/Library/Frameworks/Python.framework/Versions/3.11/lib/python3.11/site-packages/sklearn/linear_model/_coordinate_descent.py:617: ConvergenceWarning: Objective did not converge. You might want to increase the number of iterations. Duality gap: 911831.3941496611, tolerance: 644134.5054686991\n",
      "  model = cd_fast.enet_coordinate_descent_gram(\n",
      "/Library/Frameworks/Python.framework/Versions/3.11/lib/python3.11/site-packages/sklearn/linear_model/_coordinate_descent.py:617: ConvergenceWarning: Objective did not converge. You might want to increase the number of iterations. Duality gap: 910635.0736953914, tolerance: 644134.5054686991\n",
      "  model = cd_fast.enet_coordinate_descent_gram(\n",
      "/Library/Frameworks/Python.framework/Versions/3.11/lib/python3.11/site-packages/sklearn/linear_model/_coordinate_descent.py:617: ConvergenceWarning: Objective did not converge. You might want to increase the number of iterations. Duality gap: 910178.9482315779, tolerance: 644134.5054686991\n",
      "  model = cd_fast.enet_coordinate_descent_gram(\n",
      "/Library/Frameworks/Python.framework/Versions/3.11/lib/python3.11/site-packages/sklearn/linear_model/_coordinate_descent.py:617: ConvergenceWarning: Objective did not converge. You might want to increase the number of iterations. Duality gap: 910006.4933513999, tolerance: 644134.5054686991\n",
      "  model = cd_fast.enet_coordinate_descent_gram(\n",
      "/Library/Frameworks/Python.framework/Versions/3.11/lib/python3.11/site-packages/sklearn/linear_model/_coordinate_descent.py:617: ConvergenceWarning: Objective did not converge. You might want to increase the number of iterations. Duality gap: 909939.856364131, tolerance: 644134.5054686991\n",
      "  model = cd_fast.enet_coordinate_descent_gram(\n"
     ]
    }
   ],
   "source": [
    "# Lasso Regrssion with Cross-Validation\n",
    "from sklearn.linear_model import LassoCV\n",
    "\n",
    "# List of alphas to try out\n",
    "alphas = np.logspace(-4, 4, 20)\n",
    "\n",
    "# Lasso Regression with Cross-Validation\n",
    "lasso_cv = LassoCV(alphas=alphas, cv=5)  # 5-fold cross-validation\n",
    "lasso_cv.fit(X_train_scaled, y_train)\n",
    "\n",
    "# Optimal alpha and corresponding RMSE\n",
    "optimal_lasso_alpha = lasso_cv.alpha_\n",
    "lasso_cv_rmse = mean_squared_error(y_test, lasso_cv.predict(X_test_scaled), squared=False)\n",
    "preds_lasso = lasso_cv.predict(X_test_scaled)\n",
    "print(\"Optimal Lasso Alpha:\", optimal_lasso_alpha)\n",
    "print(\"Lasso Testing RMSE with Optimal Alpha:\", lasso_cv_rmse)\n"
   ]
  },
  {
   "cell_type": "code",
   "execution_count": 201,
   "id": "74847390",
   "metadata": {},
   "outputs": [
    {
     "name": "stdout",
     "output_type": "stream",
     "text": [
      "Optimal Ridge Alpha: 4.281332398719396\n",
      "Ridge Testing RMSE with Optimal Alpha: 2752.2428703880946\n"
     ]
    }
   ],
   "source": [
    "# Ridge Regression with Cross-Validation\n",
    "from sklearn.linear_model import RidgeCV\n",
    "\n",
    "# Ridge Regression with Cross-Validation\n",
    "ridge_cv = RidgeCV(alphas=alphas, scoring='neg_mean_squared_error', cv=5)  # 5-fold cross-validation\n",
    "ridge_cv.fit(X_train_scaled, y_train)\n",
    "\n",
    "# Optimal alpha and corresponding RMSE\n",
    "optimal_ridge_alpha = ridge_cv.alpha_\n",
    "ridge_cv_rmse = mean_squared_error(y_test, ridge_cv.predict(X_test_scaled), squared=False)\n",
    "preds_ridge = ridge_cv.predict(X_test_scaled)\n",
    "print(\"Optimal Ridge Alpha:\", optimal_ridge_alpha)\n",
    "print(\"Ridge Testing RMSE with Optimal Alpha:\", ridge_cv_rmse)\n"
   ]
  },
  {
   "cell_type": "markdown",
   "id": "ea35d88a",
   "metadata": {},
   "source": [
    "With Lasso and Ridge, the gap between training and testing error is reduced compared to the simple linear regression. Therefore, regularization does help to mitigate overfitting."
   ]
  },
  {
   "cell_type": "markdown",
   "id": "f0103fc9",
   "metadata": {},
   "source": [
    "<a id=\"d.5\"></a>\n",
    "## d.5 Metrics Evaluation on Test Set"
   ]
  },
  {
   "cell_type": "code",
   "execution_count": 188,
   "id": "bad1fd65",
   "metadata": {},
   "outputs": [
    {
     "name": "stdout",
     "output_type": "stream",
     "text": [
      "Adjusted_r_squared: 1.6621892076853948\n"
     ]
    }
   ],
   "source": [
    "#Adjusted R-squared\n",
    "\n",
    "from sklearn.metrics import r2_score\n",
    "\n",
    "# Calculate R-squared\n",
    "r_squared = r2_score(y_test, y_pred)\n",
    "\n",
    "# Calculate adjusted R-squared\n",
    "n = len(y_test)  # number of observations in the test set\n",
    "p = X_test_scaled.shape[1]  # number of predictors\n",
    "\n",
    "adjusted_r_squared = 1 - (((1 - r_squared) * (n - 1)) / (n - p - 1))\n",
    "print(\"Adjusted_r_squared:\", adjusted_r_squared)"
   ]
  },
  {
   "cell_type": "markdown",
   "id": "043209f6",
   "metadata": {},
   "source": [
    "For Adjusted R-squared: The value provided seems erroneous and should be investigated further. Adjusted R-squared should logically be between 0 and 1. So a different model is necessary. "
   ]
  },
  {
   "cell_type": "code",
   "execution_count": 189,
   "id": "d20aa780",
   "metadata": {},
   "outputs": [
    {
     "name": "stdout",
     "output_type": "stream",
     "text": [
      "MAPE: 16.785330508726144 %\n"
     ]
    }
   ],
   "source": [
    "# MAPE: Mean Absolute Percent Error\n",
    "\n",
    "def mean_absolute_percentage_error(y_true, y_pred): \n",
    "    y_true, y_pred = np.array(y_true), np.array(y_pred)\n",
    "    return np.mean(np.abs((y_true - y_pred) / y_true)) * 100\n",
    "\n",
    "mape = mean_absolute_percentage_error(y_test, y_pred)\n",
    "print(\"MAPE:\", mape, \"%\")\n"
   ]
  },
  {
   "cell_type": "markdown",
   "id": "98ef5462",
   "metadata": {},
   "source": [
    "For MAPE: The MAPE suggests the model's predictions are, on average, about 13.27% off from the actual values."
   ]
  },
  {
   "cell_type": "code",
   "execution_count": 190,
   "id": "36ec929a",
   "metadata": {},
   "outputs": [
    {
     "data": {
      "image/png": "[encoded data removed]",
      "text/plain": [
       "<Figure size 1000x600 with 1 Axes>"
      ]
     },
     "metadata": {},
     "output_type": "display_data"
    }
   ],
   "source": [
    "#Actual-vs-Predicted Scatter Plot\n",
    "\n",
    "plt.figure(figsize=(10, 6))\n",
    "plt.scatter(y_test, y_pred, alpha=0.5)\n",
    "plt.plot([min(y_test), max(y_test)], [min(y_test), max(y_test)], 'r--')  # 45-degree line\n",
    "plt.title('Actual vs Predicted')\n",
    "plt.xlabel('Actual')\n",
    "plt.ylabel('Predicted')\n",
    "plt.show()"
   ]
  },
  {
   "cell_type": "markdown",
   "id": "25432a07",
   "metadata": {},
   "source": [
    "There seems to be a positive linear relationship between the actual and predicted values, as indicated by the points generally following the dashed line, which represents a great fit.\n",
    "There are some points far from the dashed line, indicating instances where the model's predictions are quite far from the actual values.\n",
    "For higher values of the actual target variable, the model appears to be less accurate, with predictions deviating more from the line."
   ]
  },
  {
   "cell_type": "code",
   "execution_count": 191,
   "id": "dd8fe427",
   "metadata": {},
   "outputs": [
    {
     "data": {
      "image/png": "[encoded data removed]",
      "text/plain": [
       "<Figure size 1000x600 with 1 Axes>"
      ]
     },
     "metadata": {},
     "output_type": "display_data"
    }
   ],
   "source": [
    "#Compute Residuals and Histogram\n",
    "# Calculate residuals\n",
    "residuals = y_test - y_pred\n",
    "\n",
    "# Plotting the histogram\n",
    "plt.figure(figsize=(10, 6))\n",
    "plt.hist(residuals, bins=20, edgecolor='black')\n",
    "plt.title('Distribution of Residuals')\n",
    "plt.xlabel('Residual')\n",
    "plt.ylabel('Frequency')\n",
    "plt.show()"
   ]
  },
  {
   "cell_type": "markdown",
   "id": "220af302",
   "metadata": {},
   "source": [
    "The peak of the histogram is around zero, which is good as it suggests that the model doesn't systematically overpredict or underpredict.\n",
    "The distribution of the residuals doesn't seem perfectly normal; it is slightly skewed to the right, indicating a tail of instances where the model underpredicts the target variable.\n",
    "The presence of a few large residuals (seen in the bars far from zero) could be potential outliers or instances where the model's assumptions might not hold."
   ]
  },
  {
   "cell_type": "markdown",
   "id": "0b9e25df",
   "metadata": {},
   "source": [
    "Summary\n",
    "\n",
    "Based on the provided plots, the regression model seems to be doing a reasonable job of capturing the relationship between the predictors and the target variable, with some potential issues with outliers and heteroscedasticity at higher value ranges. It would be beneficial to investigate additional modeling algorithms, such as random forests, LGBM etc."
   ]
  },
  {
   "cell_type": "code",
   "execution_count": 202,
   "id": "60a3b8b1",
   "metadata": {},
   "outputs": [
    {
     "name": "stdout",
     "output_type": "stream",
     "text": [
      "Stored 'X_train_scaled' (ndarray)\n",
      "Stored 'X_test_scaled' (ndarray)\n",
      "Stored 'y_train' (ndarray)\n",
      "Stored 'y_test' (Series)\n",
      "Stored 'column_names' (list)\n",
      "Stored 'preds_linear' (ndarray)\n",
      "Stored 'preds_lasso' (ndarray)\n",
      "Stored 'preds_ridge' (ndarray)\n"
     ]
    },
    {
     "data": {
      "text/plain": [
       "['all_models_filename.joblib']"
      ]
     },
     "execution_count": 202,
     "metadata": {},
     "output_type": "execute_result"
    }
   ],
   "source": [
    "%store X_train_scaled\n",
    "%store X_test_scaled\n",
    "%store y_train\n",
    "%store y_test\n",
    "%store column_names\n",
    "%store preds_linear\n",
    "%store preds_lasso\n",
    "%store preds_ridge\n",
    "from joblib import dump\n",
    "models={'model1':lasso_cv, 'model2':ridge_cv}\n",
    "dump(models, 'all_models_filename.joblib')"
   ]
  }
 ],
 "metadata": {
  "kernelspec": {
   "display_name": "Python 3 (ipykernel)",
   "language": "python",
   "name": "python3"
  },
  "language_info": {
   "codemirror_mode": {
    "name": "ipython",
    "version": 3
   },
   "file_extension": ".py",
   "mimetype": "text/x-python",
   "name": "python",
   "nbconvert_exporter": "python",
   "pygments_lexer": "ipython3",
   "version": "3.11.3"
  }
 },
 "nbformat": 4,
 "nbformat_minor": 5
}
